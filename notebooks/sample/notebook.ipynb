{
 "cells": [
  {
   "cell_type": "markdown",
   "id": "e77e0d17",
   "metadata": {},
   "source": [
    "This script is taken from the [AWS Glue documentation](https://docs.aws.amazon.com/glue/latest/dg/aws-glue-programming-etl-libraries.html#develop-local-docker-image)"
   ]
  },
  {
   "cell_type": "code",
   "execution_count": null,
   "id": "16d841a2-02e6-4f4a-9f4d-29d03f0cbf79",
   "metadata": {},
   "outputs": [],
   "source": [
    "from awsglue.context import GlueContext\n",
    "from pyspark import SparkContext\n",
    "\n",
    "from jobs.sample import script"
   ]
  },
  {
   "cell_type": "code",
   "execution_count": null,
   "id": "4246de43-b703-4e36-8cc9-6fd2c22a8076",
   "metadata": {},
   "outputs": [],
   "source": [
    "glue_context = GlueContext(SparkContext.getOrCreate())"
   ]
  },
  {
   "cell_type": "code",
   "execution_count": null,
   "id": "c58cb2ea-c7d8-4afd-9a71-3ac8661fa7d5",
   "metadata": {},
   "outputs": [],
   "source": [
    "dynamicframe = script.read_json(glue_context, \"s3://awsglue-datasets/examples/us-legislators/all/persons.json\")"
   ]
  },
  {
   "cell_type": "code",
   "execution_count": null,
   "id": "1f28f6fb-fd9e-46a1-927a-338f9c60a55a",
   "metadata": {},
   "outputs": [],
   "source": [
    "dynamicframe.printSchema()"
   ]
  },
  {
   "cell_type": "code",
   "execution_count": null,
   "id": "05d92b15-4e57-4cce-9b42-8ed05017f2da",
   "metadata": {},
   "outputs": [],
   "source": [
    "dynamicframe.count()"
   ]
  }
 ],
 "metadata": {
  "kernelspec": {
   "display_name": "PySpark",
   "language": "python",
   "name": "pysparkkernel"
  },
  "language_info": {
   "codemirror_mode": {
    "name": "python",
    "version": 3
   },
   "file_extension": ".py",
   "mimetype": "text/x-python",
   "name": "pyspark",
   "pygments_lexer": "python3"
  }
 },
 "nbformat": 4,
 "nbformat_minor": 5
}
