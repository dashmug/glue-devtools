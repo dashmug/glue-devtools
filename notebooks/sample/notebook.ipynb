{
 "cells": [
  {
   "cell_type": "markdown",
   "id": "e77e0d17",
   "metadata": {},
   "source": [
    "This script is taken from the [AWS Glue documentation](https://docs.aws.amazon.com/glue/latest/dg/aws-glue-programming-etl-libraries.html#develop-local-docker-image)"
   ]
  },
  {
   "cell_type": "code",
   "execution_count": null,
   "id": "16d841a2-02e6-4f4a-9f4d-29d03f0cbf79",
   "metadata": {},
   "outputs": [],
   "source": [
    "from glue_utils.context import ManagedGlueContext\n",
    "from src.sample.script import extract"
   ]
  },
  {
   "cell_type": "code",
   "execution_count": null,
   "id": "4246de43-b703-4e36-8cc9-6fd2c22a8076",
   "metadata": {},
   "outputs": [],
   "source": [
    "with ManagedGlueContext() as glue_context:\n",
    "    dyf = extract(\n",
    "        glue_context=glue_context,\n",
    "        path=\"s3://awsglue-datasets/examples/us-legislators/all/persons.json\",\n",
    "    )"
   ]
  },
  {
   "cell_type": "code",
   "execution_count": null,
   "id": "c58cb2ea-c7d8-4afd-9a71-3ac8661fa7d5",
   "metadata": {},
   "outputs": [],
   "source": [
    "dyf.printSchema()"
   ]
  },
  {
   "cell_type": "code",
   "execution_count": null,
   "id": "1f28f6fb-fd9e-46a1-927a-338f9c60a55a",
   "metadata": {},
   "outputs": [],
   "source": [
    "dyf.toDF().count()"
   ]
  }
 ],
 "metadata": {
  "kernelspec": {
   "display_name": "PySpark",
   "language": "python",
   "name": "pysparkkernel"
  },
  "language_info": {
   "codemirror_mode": {
    "name": "python",
    "version": 3
   },
   "file_extension": ".py",
   "mimetype": "text/x-python",
   "name": "pyspark",
   "pygments_lexer": "python3"
  }
 },
 "nbformat": 4,
 "nbformat_minor": 5
}
