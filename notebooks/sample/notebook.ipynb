{
 "cells": [
  {
   "cell_type": "markdown",
   "id": "e77e0d17",
   "metadata": {},
   "source": [
    "This script is taken from the [AWS Glue documentation](https://docs.aws.amazon.com/glue/latest/dg/aws-glue-programming-etl-libraries.html#develop-local-docker-image)"
   ]
  },
  {
   "cell_type": "code",
   "execution_count": null,
   "id": "16d841a2-02e6-4f4a-9f4d-29d03f0cbf79",
   "metadata": {},
   "outputs": [],
   "source": [
    "from src.sample.script import GluePythonSampleTest\n",
    "\n",
    "\n",
    "GluePythonSampleTest().run()\n"
   ]
  },
  {
   "cell_type": "code",
   "execution_count": null,
   "id": "4246de43-b703-4e36-8cc9-6fd2c22a8076",
   "metadata": {},
   "outputs": [],
   "source": []
  }
 ],
 "metadata": {
  "kernelspec": {
   "display_name": "PySpark",
   "language": "python",
   "name": "pysparkkernel"
  },
  "language_info": {
   "codemirror_mode": {
    "name": "python",
    "version": 3
   },
   "file_extension": ".py",
   "mimetype": "text/x-python",
   "name": "pyspark",
   "pygments_lexer": "python3"
  }
 },
 "nbformat": 4,
 "nbformat_minor": 5
}
